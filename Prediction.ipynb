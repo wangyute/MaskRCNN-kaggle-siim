{
 "cells": [
  {
   "cell_type": "code",
   "execution_count": 1,
   "metadata": {},
   "outputs": [
    {
     "ename": "ModuleNotFoundError",
     "evalue": "No module named 'mask_functions'",
     "output_type": "error",
     "traceback": [
      "\u001b[0;31m---------------------------------------------------------------------------\u001b[0m",
      "\u001b[0;31mModuleNotFoundError\u001b[0m                       Traceback (most recent call last)",
      "\u001b[0;32m<ipython-input-1-864e87b1eb35>\u001b[0m in \u001b[0;36m<module>\u001b[0;34m\u001b[0m\n\u001b[1;32m      4\u001b[0m \u001b[0;32mfrom\u001b[0m \u001b[0mmatplotlib\u001b[0m \u001b[0;32mimport\u001b[0m \u001b[0mpyplot\u001b[0m \u001b[0;32mas\u001b[0m \u001b[0mplt\u001b[0m\u001b[0;34m\u001b[0m\u001b[0;34m\u001b[0m\u001b[0m\n\u001b[1;32m      5\u001b[0m \u001b[0;32mimport\u001b[0m \u001b[0mos\u001b[0m\u001b[0;34m\u001b[0m\u001b[0;34m\u001b[0m\u001b[0m\n\u001b[0;32m----> 6\u001b[0;31m \u001b[0;32mfrom\u001b[0m \u001b[0mmask_functions\u001b[0m \u001b[0;32mimport\u001b[0m \u001b[0mrle2mask\u001b[0m\u001b[0;34m,\u001b[0m \u001b[0mmask2rle\u001b[0m\u001b[0;34m\u001b[0m\u001b[0;34m\u001b[0m\u001b[0m\n\u001b[0m\u001b[1;32m      7\u001b[0m \u001b[0;32mfrom\u001b[0m \u001b[0mgoogle\u001b[0m\u001b[0;34m.\u001b[0m\u001b[0mcloud\u001b[0m \u001b[0;32mimport\u001b[0m \u001b[0mstorage\u001b[0m\u001b[0;34m\u001b[0m\u001b[0;34m\u001b[0m\u001b[0m\n",
      "\u001b[0;31mModuleNotFoundError\u001b[0m: No module named 'mask_functions'"
     ]
    }
   ],
   "source": [
    "import numpy as np\n",
    "import pandas as pd\n",
    "import pydicom\n",
    "from matplotlib import pyplot as plt\n",
    "import os\n",
    "from mask_functions import rle2mask, mask2rle\n",
    "from google.cloud import storage"
   ]
  },
  {
   "cell_type": "code",
   "execution_count": null,
   "metadata": {},
   "outputs": [],
   "source": [
    "bucket = storage.Client().get_bucket(\"pneumothorax_chest_x-rays\")"
   ]
  },
  {
   "cell_type": "code",
   "execution_count": null,
   "metadata": {},
   "outputs": [],
   "source": [
    "blobs = list(bucket.list_blobs(prefix='test/'))"
   ]
  },
  {
   "cell_type": "code",
   "execution_count": null,
   "metadata": {},
   "outputs": [],
   "source": [
    "df = pd.read_csv('./output/sample_submission.csv')\n",
    "df.head()"
   ]
  },
  {
   "cell_type": "code",
   "execution_count": null,
   "metadata": {},
   "outputs": [],
   "source": [
    "import torch\n",
    "import torch.utils.data\n",
    "import collections\n",
    "from tqdm import tqdm\n",
    "from PIL import Image\n",
    "import torchvision\n",
    "\n",
    "class TorchDataset(torch.utils.data.Dataset):\n",
    "    def __init__(self, blobs, df):\n",
    "        self.blobs = blobs\n",
    "        self.df = df\n",
    "        \n",
    "        self.image_info = collections.defaultdict(dict)\n",
    "        \n",
    "        i = 0\n",
    "        for blob in tqdm(self.blobs, total= len(self.blobs)):\n",
    "            file_path = blob.name\n",
    "            img_id = file_path.split('/')[-1][:-4]\n",
    "            \n",
    "            df_temp = self.df.loc[self.df.ImageId == img_id]\n",
    "            if not df_temp.iloc[0, 0]:\n",
    "                continue\n",
    "            \n",
    "            dcm_path = './testset/{}.dcm'.format(img_id)\n",
    "            png_path = './testset_png/{}.png'.format(img_id)\n",
    "                \n",
    "            # if the dcm is not downloaded, download it.\n",
    "            if not os.path.exists(dcm_path):\n",
    "                with open(dcm_path, 'wb') as file_obj:\n",
    "                    blob.download_to_file(file_obj)  \n",
    "            # if the png is not created, create it.\n",
    "            if not os.path.exists(png_path):\n",
    "                with open(png_path, 'wb') as file_obj:\n",
    "                    dcm_data = pydicom.dcmread(dcm_path) #, force=True)  \n",
    "                    img = dcm_data.pixel_array\n",
    "                    img_mem = Image.fromarray(img)\n",
    "                    img_mem.save(file_obj)\n",
    "                \n",
    "            self.image_info[i][\"image_id\"] = img_id\n",
    "            self.image_info[i][\"image_path\"] = png_path\n",
    "            i += 1\n",
    "                \n",
    "            \n",
    "    def __getitem__(self, idx):\n",
    "        # images\n",
    "        img_path = self.image_info[idx][\"image_path\"]\n",
    "        img = Image.open(img_path).convert(\"RGB\")\n",
    "        tsr = torchvision.transforms.ToTensor()(img)\n",
    "        \n",
    "#         # resize\n",
    "#         tsr = img.resize((256, 256), resample=Image.BILINEAR)\n",
    "#         tsr = torchvision.transforms.ToTensor()(tsr)\n",
    "\n",
    "        return img, tsr, self.image_info[idx][\"image_id\"]\n",
    "    \n",
    "\n",
    "    def __len__(self):\n",
    "        return len(self.image_info)"
   ]
  },
  {
   "cell_type": "code",
   "execution_count": null,
   "metadata": {},
   "outputs": [],
   "source": [
    "testset = TorchDataset(blobs, df)"
   ]
  },
  {
   "cell_type": "code",
   "execution_count": null,
   "metadata": {},
   "outputs": [],
   "source": [
    "import torchvision\n",
    "from torchvision.models.detection.faster_rcnn import FastRCNNPredictor\n",
    "from torchvision.models.detection.mask_rcnn import MaskRCNNPredictor\n",
    "\n",
    "      \n",
    "def get_instance_segmentation_model(num_classes):\n",
    "    # load an instance segmentation model pre-trained on COCO\n",
    "    model = torchvision.models.detection.maskrcnn_resnet50_fpn(pretrained=True)\n",
    "\n",
    "    # get the number of input features for the classifier\n",
    "    in_features = model.roi_heads.box_predictor.cls_score.in_features\n",
    "    # replace the pre-trained head with a new one\n",
    "    model.roi_heads.box_predictor = FastRCNNPredictor(in_features, num_classes)\n",
    "\n",
    "    # now get the number of input features for the mask classifier\n",
    "    in_features_mask = model.roi_heads.mask_predictor.conv5_mask.in_channels\n",
    "    hidden_layer = 256\n",
    "    # and replace the mask predictor with a new one\n",
    "    model.roi_heads.mask_predictor = MaskRCNNPredictor(in_features_mask,\n",
    "                                                       hidden_layer,\n",
    "                                                       num_classes)\n",
    "\n",
    "    return model"
   ]
  },
  {
   "cell_type": "code",
   "execution_count": null,
   "metadata": {},
   "outputs": [],
   "source": [
    "device = torch.device('cuda') if torch.cuda.is_available() else torch.device('cpu')\n",
    "\n",
    "# our dataset has two classes only - background and person\n",
    "num_classes = 2\n",
    "\n",
    "# get the model using our helper function\n",
    "model = get_instance_segmentation_model(num_classes)\n",
    "\n",
    "# load the trained parameter\n",
    "model.load_state_dict(torch.load('./model/model_para.pt'))\n",
    "# model.load_state_dict(torch.load('./model/model.bin'))\n",
    "\n",
    "# move model to the right device\n",
    "model.to(device)"
   ]
  },
  {
   "cell_type": "code",
   "execution_count": null,
   "metadata": {},
   "outputs": [],
   "source": [
    "# pick one image from the test set\n",
    "img, tsr, img_id = testset[0]\n",
    "# put the model in evaluation mode\n",
    "model.eval()\n",
    "with torch.no_grad():\n",
    "    prediction = model([tsr.to(device)])"
   ]
  },
  {
   "cell_type": "code",
   "execution_count": null,
   "metadata": {},
   "outputs": [],
   "source": [
    "prediction"
   ]
  },
  {
   "cell_type": "code",
   "execution_count": null,
   "metadata": {},
   "outputs": [],
   "source": [
    "scores = prediction[0]['scores']\n",
    "scores"
   ]
  },
  {
   "cell_type": "code",
   "execution_count": null,
   "metadata": {},
   "outputs": [],
   "source": [
    "scores_binary = (scores >0.3)\n",
    "scores_binary"
   ]
  },
  {
   "cell_type": "code",
   "execution_count": null,
   "metadata": {},
   "outputs": [],
   "source": [
    "scores_binary.all == 0"
   ]
  },
  {
   "cell_type": "code",
   "execution_count": null,
   "metadata": {},
   "outputs": [],
   "source": [
    "scores = prediction[0]['scores']\n",
    "scores_binary = (scores >= 0.3)\n",
    "\n",
    "# no score/mask or all the scores <0.3\n",
    "if len(scores) ==0 or scores_binary.all == 0:\n",
    "    rle = '-1'\n",
    "\n",
    "else:\n",
    "    masks = prediction[0]['masks'].mul(255).byte().cpu().numpy()\n",
    "    mask_pred = np.zeros_like(masks[0, 0]).astype(np.uint64) #change type to prevent overflow\n",
    "    for i, binary in enumerate(scores_binary):\n",
    "        if binary ==1:\n",
    "            mask_pred += masks[i, 0]\n",
    "    mask_pred = (mask_pred > 127).astype(np.uint8)\n",
    "    mask_pred = np.where(mask_pred ==0, 0, 255)\n",
    "    rle = mask2rle(mask_pred.T, 1024, 1024)\n",
    "    \n",
    "#     # resize\n",
    "#     mask_temp = Image.fromarray(mask_pred).resize((1024, 1024), resample=Image.BILINEAR)\n",
    "#     mask_temp = np.array(mask_temp)\n",
    "#     rle = mask2rle(mask_temp.T, 1024, 1024)\n",
    "    \n",
    "    if rle == '':\n",
    "        rle = '-1'"
   ]
  },
  {
   "cell_type": "code",
   "execution_count": null,
   "metadata": {},
   "outputs": [],
   "source": [
    "rle"
   ]
  },
  {
   "cell_type": "code",
   "execution_count": null,
   "metadata": {},
   "outputs": [],
   "source": [
    "np.unique(mask_pred)"
   ]
  },
  {
   "cell_type": "code",
   "execution_count": null,
   "metadata": {},
   "outputs": [],
   "source": [
    "plt.figure(figsize=(10,10))\n",
    "plt.ylabel('MASKED')\n",
    "\n",
    "plt.imshow(img, cmap=plt.cm.bone)\n",
    "plt.imshow(mask_pred, alpha=0.3, cmap=\"Reds\")\n",
    "# plt.imshow(mask_temp, alpha=0.3, cmap=\"Greens\")\n"
   ]
  },
  {
   "cell_type": "code",
   "execution_count": null,
   "metadata": {},
   "outputs": [],
   "source": [
    "# predict on the test set\n",
    "# put the model in evaluation mode\n",
    "model.eval()\n",
    "\n",
    "with torch.no_grad():\n",
    "    test_list = list()\n",
    "    \n",
    "    for i in tqdm(range(len(testset))):\n",
    "        img, tsr, img_id = testset[i]\n",
    "        prediction = model([tsr.to(device)])\n",
    "###\n",
    "        scores = prediction[0]['scores']\n",
    "        scores_binary = (scores >= 0.3)\n",
    "\n",
    "        # no score/mask or all the scores <0.3\n",
    "        if len(scores) ==0 or scores_binary.all == 0:\n",
    "            rle = '-1'\n",
    "\n",
    "        else:\n",
    "            masks = prediction[0]['masks'].mul(255).byte().cpu().numpy()\n",
    "            mask_pred = np.zeros_like(masks[0, 0]).astype(np.uint64) #change type to prevent overflow\n",
    "            for i, binary in enumerate(scores_binary):\n",
    "                if binary ==1:\n",
    "                    mask_pred += masks[i, 0]\n",
    "            mask_pred = (mask_pred > 127).astype(np.uint8)\n",
    "            mask_pred = np.where(mask_pred ==0, 0, 255)\n",
    "            rle = mask2rle(mask_pred.T, 1024, 1024)\n",
    "\n",
    "        #     # resize\n",
    "        #     mask_temp = Image.fromarray(mask_pred).resize((1024, 1024), resample=Image.BILINEAR)\n",
    "        #     mask_temp = np.array(mask_temp)\n",
    "        #     rle = mask2rle(mask_temp.T, 1024, 1024)\n",
    "\n",
    "            if rle == '':\n",
    "                rle = '-1'\n",
    "###\n",
    "    \n",
    "        test_list.append([img_id, rle])"
   ]
  },
  {
   "cell_type": "code",
   "execution_count": null,
   "metadata": {},
   "outputs": [],
   "source": [
    "sample_order = list(df['ImageId'])"
   ]
  },
  {
   "cell_type": "code",
   "execution_count": null,
   "metadata": {},
   "outputs": [],
   "source": [
    "pred_list = [tuple for x in sample_order for tuple in test_list if tuple[0] == x]"
   ]
  },
  {
   "cell_type": "code",
   "execution_count": null,
   "metadata": {},
   "outputs": [],
   "source": [
    "df_pred = pd.DataFrame(pred_list, columns = df.columns.values) "
   ]
  },
  {
   "cell_type": "code",
   "execution_count": null,
   "metadata": {},
   "outputs": [],
   "source": [
    "df_pred.to_csv('./output/submission.csv', index=False)"
   ]
  },
  {
   "cell_type": "code",
   "execution_count": null,
   "metadata": {},
   "outputs": [],
   "source": []
  }
 ],
 "metadata": {
  "kernelspec": {
   "display_name": "Python 3",
   "language": "python",
   "name": "python3"
  },
  "language_info": {
   "codemirror_mode": {
    "name": "ipython",
    "version": 3
   },
   "file_extension": ".py",
   "mimetype": "text/x-python",
   "name": "python",
   "nbconvert_exporter": "python",
   "pygments_lexer": "ipython3",
   "version": "3.7.3"
  }
 },
 "nbformat": 4,
 "nbformat_minor": 2
}
